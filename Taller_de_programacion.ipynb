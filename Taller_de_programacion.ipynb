{
  "nbformat": 4,
  "nbformat_minor": 0,
  "metadata": {
    "colab": {
      "provenance": [],
      "authorship_tag": "ABX9TyOR3nsRso232Dyc7FmJQDYO",
      "include_colab_link": true
    },
    "kernelspec": {
      "name": "python3",
      "display_name": "Python 3"
    },
    "language_info": {
      "name": "python"
    }
  },
  "cells": [
    {
      "cell_type": "markdown",
      "metadata": {
        "id": "view-in-github",
        "colab_type": "text"
      },
      "source": [
        "<a href=\"https://colab.research.google.com/github/i-do-md/Parcial-de-programacion-2-/blob/main/Taller_de_programacion.ipynb\" target=\"_parent\"><img src=\"https://colab.research.google.com/assets/colab-badge.svg\" alt=\"Open In Colab\"/></a>"
      ]
    },
    {
      "cell_type": "markdown",
      "source": [
        "problema 2:\n",
        "algoritmo\n",
        "\n",
        "inico\n",
        "\n",
        "1 la tarifa base del viaje es de 6000 (tarifa_viaje)\n",
        "\n",
        "2 pedir la distancia que se desea recorrer en kilometros (distancia)\n",
        "\n",
        "3 pedir el tiempo en que el texi estuvo detenido (tiempo_detencion)\n",
        "\n",
        "4 pedir la hora de incio del servicio (hora_inicio)\n",
        "\n",
        "5 calcular la tarifa del viaje\n",
        "\n",
        " si la distancia es menor o igual a 5 km\n",
        "  la tarifa de vaije es igual a la multiplicacion de la distncia por 1500 (trarifa_viaje= distancia * 1500)\n",
        "\n",
        " si la distancia es mayor o igual a 15 km\n",
        " la tarifa de viaje es igual a la multiplicacion por el precio de los primeros 5 km mas la resta entre la distancia - 5 multiplicada por el precio de la tarifa entre 5 a 15 km  (tarifa_viaje= (5 * 1500 ) + (distancia-5) * 1200)\n",
        "\n",
        " si la distancia es mayor a 15 la tarifa de vaije es igual a la multiplicacion por el precio de los primeros 5 km mas la multiplicacion de los otros 15 km con la tarifa del segundo viaje mas la resta entre la distancia - 15 multiplicada por el precio de la tarifa de mayor a 15 km   (tarifa_viaje = (5 * 1500) + (10 * 1200) + (distancia - 15) * 1000)\n",
        "\n",
        "6 calculo de la tarifa por tiempo de detencioin\n",
        " tarifa_detencion = tiempo_detencion * 400\n",
        "\n",
        "7 calculo del subtotal de costo\n",
        " subtotal = tarifa_tetencion +  tarifa_viaje\n",
        "\n",
        "8 calular el recargo nocturno si la hora de incio va entre 22:00 y las 6:00\n",
        " Recargo Nocturno = Tarifa de Viaje Total * 0.20\n",
        "\n",
        " sino  \n",
        "  Recargo Nocturno = 0\n",
        "\n",
        "9 calcular el costo total del vaije\n",
        " costo_total = subtotal + recargo nocturno + tarifa base\n",
        "\n",
        "10 mostrar costo_total\n",
        "\n",
        "fin\n",
        "\n",
        "\n",
        "\n",
        "\n",
        "\n"
      ],
      "metadata": {
        "id": "mYLKoeKHFGw4"
      }
    },
    {
      "cell_type": "markdown",
      "source": [
        "Problema 2\n",
        "Pseudocódigo\n",
        "Start\n",
        "Problem_tarifa_taxi\n",
        "// Un programa que calcula el costo total de un viaje en taxi\n",
        "\n",
        "// Declarar el tipo de variable\n",
        "Declare float tarifa_base\n",
        "Declare float distancia\n",
        "Declare float tiempo_detencion\n",
        "Declare string hora_inicio\n",
        "Declare int hora, minuto\n",
        "Declare float tarifa_viaje\n",
        "Declare float tarifa_detencion\n",
        "Declare float subtotal\n",
        "Declare float recargo_nocturno\n",
        "Declare float costo_total\n",
        "\n",
        "// Paso 1: Definir la tarifa base del viaje\n",
        "Set tarifa_base = 6000\n",
        "\n",
        "// Paso 2: Pedir la distancia a recorrer en kilómetros\n",
        "Display \"Ingrese la distancia a recorrer en kilómetros:\"\n",
        "Input distancia\n",
        "\n",
        "// Paso 3: Pedir el tiempo en que el taxi estuvo detenido en minutos\n",
        "Display \"Ingrese el tiempo en minutos que el taxi estuvo detenido:\"\n",
        "Input tiempo_detencion\n",
        "\n",
        "// Paso 4: Pedir la hora de inicio del servicio en formato 24 horas (HH:MM)\n",
        "Display \"Ingrese la hora de inicio del servicio (formato HH:MM):\"\n",
        "Input hora_inicio\n",
        "\n",
        "// Separar la hora y el minuto\n",
        "Set hora, minuto = Split(hora_inicio, ':')\n",
        "\n",
        "// Paso 5: Calcular la tarifa del viaje según la distancia\n",
        "If distancia <= 5 Then\n",
        "    Set tarifa_viaje = distancia * 1500\n",
        "Else If distancia <= 15 Then\n",
        "    Set tarifa_viaje = (5 * 1500) + (distancia - 5) * 1200\n",
        "Else\n",
        "    Set tarifa_viaje = (5 * 1500) + (10 * 1200) + (distancia - 15) * 1000\n",
        "End If\n",
        "\n",
        "// Paso 6: Calcular la tarifa por tiempo de detención\n",
        "Set tarifa_detencion = tiempo_detencion * 400\n",
        "\n",
        "// Paso 7: Calcular el subtotal (tarifa por distancia + detención)\n",
        "Set subtotal = tarifa_viaje + tarifa_detencion\n",
        "\n",
        "// Paso 8: Calcular el recargo nocturno si la hora de inicio está entre 22:00 y 06:00\n",
        "If hora >= 22 OR hora < 6 Then\n",
        "    Set recargo_nocturno = subtotal * 0.20\n",
        "Else\n",
        "    Set recargo_nocturno = 0\n",
        "End If\n",
        "\n",
        "// Paso 9: Calcular el costo total del viaje\n",
        "Set costo_total = subtotal + recargo_nocturno + tarifa_base\n",
        "\n",
        "// Paso 10: Mostrar el costo total\n",
        "Display \"El costo total del viaje es \", costo_total\n",
        "\n",
        "End"
      ],
      "metadata": {
        "id": "Y6rC1tkw0a2w"
      }
    },
    {
      "cell_type": "code",
      "source": [
        "def calcular_tarifa_taxi(distancia_recorrida, tiempo_detenido, hora_inicio):\n",
        "    # Definir tarifas base y tarifas por tramo de distancia\n",
        "    tarifa_base = 6000\n",
        "    tarifa_km_1 = 1500  # Hasta 5 km\n",
        "    tarifa_km_2 = 1200  # De más de 5 km hasta 15 km\n",
        "    tarifa_km_3 = 1000  # Más de 15 km\n",
        "    tarifa_detencion = 400  # Por minuto\n",
        "    recargo_nocturno = 0.20  # 20% de recargo nocturno\n",
        "\n",
        "    # Calcular tarifa por distancia\n",
        "    if distancia_recorrida <= 5:\n",
        "        costo_distancia = distancia_recorrida * tarifa_km_1\n",
        "    elif distancia_recorrida <= 15:\n",
        "        costo_distancia = (5 * tarifa_km_1) + ((distancia_recorrida - 5) * tarifa_km_2)\n",
        "    else:\n",
        "        costo_distancia = (5 * tarifa_km_1) + (10 * tarifa_km_2) + ((distancia_recorrida - 15) * tarifa_km_3)\n",
        "\n",
        "    # Calcular costo por tiempo de detención\n",
        "    costo_tiempo = tiempo_detenido * tarifa_detencion\n",
        "\n",
        "    # Calcular total antes del recargo\n",
        "    total = tarifa_base + costo_distancia + costo_tiempo\n",
        "\n",
        "    # Verificar si aplica recargo nocturno (entre 22:00 y 6:00)\n",
        "    if hora_inicio >= 22 or hora_inicio < 6:\n",
        "        total += total * recargo_nocturno\n",
        "\n",
        "    return total\n",
        "\n",
        "# Ejemplo de uso\n",
        "distancia = float(input(\"Ingrese la distancia recorrida en km: \"))\n",
        "tiempo = float(input(\"Ingrese el tiempo de detención en minutos: \"))\n",
        "hora = int(input(\"Ingrese la hora de inicio del viaje (en formato 24h): \"))\n",
        "\n",
        "tarifa_total = calcular_tarifa_taxi(distancia, tiempo, hora)\n",
        "print(f\"El costo total del viaje es: {tarifa_total} COP\")"
      ],
      "metadata": {
        "colab": {
          "base_uri": "https://localhost:8080/"
        },
        "id": "9_u3Ssuewipn",
        "outputId": "5a974d80-1a6d-46a2-aeee-bc1580e2a1cb"
      },
      "execution_count": null,
      "outputs": [
        {
          "output_type": "stream",
          "name": "stdout",
          "text": [
            "Ingrese la distancia recorrida en km: 8\n",
            "Ingrese el tiempo de detención en minutos: 5\n",
            "Ingrese la hora de inicio del viaje (en formato 24h): 21\n",
            "El costo total del viaje es: 19100.0 COP\n"
          ]
        }
      ]
    }
  ]
}